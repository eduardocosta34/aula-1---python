{
 "cells": [
  {
   "cell_type": "code",
   "execution_count": 1,
   "metadata": {},
   "outputs": [
    {
     "name": "stdout",
     "output_type": "stream",
     "text": [
      "Olá eduardo, seja bem-vindo!!\n"
     ]
    }
   ],
   "source": [
    "nome = input('Digite o seu nome: ')\n",
    "print(f'Olá {nome}, seja bem-vindo!!')"
   ]
  },
  {
   "cell_type": "code",
   "execution_count": 2,
   "metadata": {},
   "outputs": [
    {
     "name": "stdout",
     "output_type": "stream",
     "text": [
      "data de nascimento: 19/7/2000\n"
     ]
    }
   ],
   "source": [
    "dia = int(input('Dia do seu nascimento: '))\n",
    "mes = int(input('Mês do seu nascimento: '))\n",
    "ano = int(input('Ano do seu nascimento: '))\n",
    "\n",
    "print(f'data de nascimento: {dia}/{mes}/{ano}')"
   ]
  },
  {
   "cell_type": "code",
   "execution_count": 3,
   "metadata": {},
   "outputs": [
    {
     "name": "stdout",
     "output_type": "stream",
     "text": [
      "A soma dos valores é: 5\n"
     ]
    }
   ],
   "source": [
    "num1 = int(input('digite um valor: '))\n",
    "num2 = int(input('Digite outro valor: '))\n",
    "\n",
    "print(f'A soma dos valores é: {num1 + num2}')"
   ]
  },
  {
   "cell_type": "code",
   "execution_count": 7,
   "metadata": {},
   "outputs": [
    {
     "name": "stdout",
     "output_type": "stream",
     "text": [
      "Qual o tipo desse valor:  <class 'str'>\n",
      "Ele é alfabetico?  True\n",
      "Ele é númerico?  False\n",
      "ele é ?  a\n"
     ]
    }
   ],
   "source": [
    "valor = (input('Digite um valor: '))\n",
    "print('Qual o tipo desse valor: ', type(valor))\n",
    "print('Ele é alfabetico? ', valor.isalpha())\n",
    "print('Ele é númerico? ', valor.isnumeric())\n",
    "print('ele é ? ', valor)"
   ]
  },
  {
   "cell_type": "code",
   "execution_count": 9,
   "metadata": {},
   "outputs": [
    {
     "name": "stdout",
     "output_type": "stream",
     "text": [
      "64\n"
     ]
    }
   ],
   "source": [
    "print(4**3)"
   ]
  },
  {
   "cell_type": "code",
   "execution_count": 10,
   "metadata": {},
   "outputs": [
    {
     "name": "stdout",
     "output_type": "stream",
     "text": [
      "1\n",
      "3\n"
     ]
    }
   ],
   "source": [
    "num = int(input('Digite um número: '))\n",
    "print(num - 1)\n",
    "print(num + 1)"
   ]
  },
  {
   "cell_type": "code",
   "execution_count": 22,
   "metadata": {},
   "outputs": [
    {
     "name": "stdout",
     "output_type": "stream",
     "text": [
      "O dobro de 40 é 80\n",
      "O triplo de 40 é 120\n",
      "a raiz quadrada de 40 é 6.32\n"
     ]
    }
   ],
   "source": [
    "num = int(input('Digite um número: '))\n",
    "print(f'O dobro de {num} é {num * 2}')\n",
    "print(f'O triplo de {num} é {num * 3}')\n",
    "print(f'a raiz quadrada de {num} é {num ** (1/2):.2f}')"
   ]
  },
  {
   "cell_type": "code",
   "execution_count": 23,
   "metadata": {},
   "outputs": [
    {
     "name": "stdout",
     "output_type": "stream",
     "text": [
      "a media é 5.85\n"
     ]
    }
   ],
   "source": [
    "nota1 = float(input('Digite a primeira nota: '))\n",
    "nota2 = float(input('Digite a segunda nota: '))\n",
    "media = (nota1 + nota2) / 2\n",
    "print(f'a media é {media:.2f}')"
   ]
  },
  {
   "cell_type": "code",
   "execution_count": 15,
   "metadata": {},
   "outputs": [
    {
     "name": "stdout",
     "output_type": "stream",
     "text": [
      "30m representa 3000cm e 30000mm\n"
     ]
    }
   ],
   "source": [
    "metros = int(input('Digite a quantidade de metros:'))\n",
    "centimetros = metros * 100\n",
    "milimetros = metros * 1000\n",
    "\n",
    "print(f'{metros}m representa {centimetros}cm e {milimetros}mm')"
   ]
  },
  {
   "cell_type": "code",
   "execution_count": 17,
   "metadata": {},
   "outputs": [
    {
     "name": "stdout",
     "output_type": "stream",
     "text": [
      "5 * 1 = 5\n",
      "5 * 2 = 10\n",
      "5 * 3 = 15\n",
      "5 * 4 = 20\n",
      "5 * 5 = 25\n",
      "5 * 6 = 30\n",
      "5 * 7 = 35\n",
      "5 * 8 = 40\n",
      "5 * 9 = 45\n",
      "5 * 10 = 50\n"
     ]
    }
   ],
   "source": [
    "n = int(input('Digite um número: '))\n",
    "print(f'{n} * 1 = {n*1}')\n",
    "print(f'{n} * 2 = {n*2}')\n",
    "print(f'{n} * 3 = {n*3}')\n",
    "print(f'{n} * 4 = {n*4}')\n",
    "print(f'{n} * 5 = {n*5}')\n",
    "print(f'{n} * 6 = {n*6}')\n",
    "print(f'{n} * 7 = {n*7}')\n",
    "print(f'{n} * 8 = {n*8}')\n",
    "print(f'{n} * 9 = {n*9}')\n",
    "print(f'{n} * 10 = {n*10}')"
   ]
  },
  {
   "cell_type": "code",
   "execution_count": 20,
   "metadata": {},
   "outputs": [
    {
     "name": "stdout",
     "output_type": "stream",
     "text": [
      "Com 6.0R$ você pode comprar 1.05$ (dolar)\n"
     ]
    }
   ],
   "source": [
    "carteira = float(input('Quantos reais você possui na carteira? '))\n",
    "dolar = carteira / 5.71\n",
    "\n",
    "print(f'Com {carteira}R$ você pode comprar {dolar:.2f}$ (dolar)')"
   ]
  },
  {
   "cell_type": "code",
   "execution_count": 24,
   "metadata": {},
   "outputs": [
    {
     "name": "stdout",
     "output_type": "stream",
     "text": [
      "A area 6.0m² utiliza 3.0L de tinta\n"
     ]
    }
   ],
   "source": [
    "altura_parede = float(input('Altura da parede? '))\n",
    "largura_parede = float(input('Largura da parede? '))\n",
    "area_parede = altura_parede * largura_parede\n",
    "tinta = area_parede / 2\n",
    "\n",
    "print(f'A area {area_parede}m² utiliza {tinta}L de tinta')"
   ]
  },
  {
   "cell_type": "code",
   "execution_count": null,
   "metadata": {},
   "outputs": [],
   "source": [
    "preco_produto = float(input('Preço do produto: '))\n",
    "desconto = preco_produto * 0.05\n",
    "preco_final = preco_produto - desconto\n",
    "print(f'valor do produto: {preco_produto:.2f}R$ - valor com desconto de 5%: {preco_final:.2f}R$')"
   ]
  },
  {
   "cell_type": "code",
   "execution_count": null,
   "metadata": {},
   "outputs": [],
   "source": [
    "salario = float(input('Salário funcionário: '))\n",
    "aumento = salario * 0.15\n",
    "salario_final = salario + aumento\n",
    "\n",
    "print(f'Salário atual: {salario:.2f}R$ - Salário com 15% de aumento: {salario_final:.2f}R$')"
   ]
  },
  {
   "cell_type": "code",
   "execution_count": 25,
   "metadata": {},
   "outputs": [
    {
     "name": "stdout",
     "output_type": "stream",
     "text": [
      "A temperatura em 30.0C equivale a 86.0F\n"
     ]
    }
   ],
   "source": [
    "c = float(input('Informe a temperatura em ºC: '))\n",
    "f = ((9*c) / 5) + 32\n",
    "\n",
    "print(f'A temperatura em {c}C equivale a {f}F')"
   ]
  },
  {
   "cell_type": "code",
   "execution_count": 27,
   "metadata": {},
   "outputs": [
    {
     "name": "stdout",
     "output_type": "stream",
     "text": [
      "O total a ser pago é de 390.0\n"
     ]
    }
   ],
   "source": [
    "kms = int(input('Quantidade de KMs percorridos: '))\n",
    "dias = int(input('Quantidade de dias do aluguel: '))\n",
    "total = (dias * 60) + (kms * 0.15)\n",
    "\n",
    "print(f'O total a ser pago é de {total:.2f}')"
   ]
  }
 ],
 "metadata": {
  "kernelspec": {
   "display_name": "Python 3",
   "language": "python",
   "name": "python3"
  },
  "language_info": {
   "codemirror_mode": {
    "name": "ipython",
    "version": 3
   },
   "file_extension": ".py",
   "mimetype": "text/x-python",
   "name": "python",
   "nbconvert_exporter": "python",
   "pygments_lexer": "ipython3",
   "version": "3.13.0"
  }
 },
 "nbformat": 4,
 "nbformat_minor": 2
}
